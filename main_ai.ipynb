{
 "cells": [
  {
   "cell_type": "code",
   "execution_count": 1,
   "metadata": {},
   "outputs": [],
   "source": [
    "import pandas as pd\n",
    "import numpy as np\n",
    "import seaborn as sns\n",
    "import matplotlib.pyplot as plt\n",
    "from matplotlib.pyplot import figure\n",
    "import statistics"
   ]
  },
  {
   "cell_type": "markdown",
   "metadata": {},
   "source": [
    "# The Task\n",
    "The challenge is to use data to determine which factors go into making a successful film. The goal is to demonstrate my approach thinking about an analytical problem and to cleaning, visualizing, and analyzing a real dataset.\n",
    "\n",
    "Based on this information, this sounds like a challenge where I will be spending the majority of my time exploring the data and working on understanding the factors that go into a successful film."
   ]
  },
  {
   "cell_type": "code",
   "execution_count": 2,
   "metadata": {},
   "outputs": [],
   "source": [
    "df = pd.read_csv('movie_data.csv')"
   ]
  },
  {
   "cell_type": "code",
   "execution_count": 3,
   "metadata": {},
   "outputs": [
    {
     "data": {
      "text/html": [
       "<div>\n",
       "<style scoped>\n",
       "    .dataframe tbody tr th:only-of-type {\n",
       "        vertical-align: middle;\n",
       "    }\n",
       "\n",
       "    .dataframe tbody tr th {\n",
       "        vertical-align: top;\n",
       "    }\n",
       "\n",
       "    .dataframe thead th {\n",
       "        text-align: right;\n",
       "    }\n",
       "</style>\n",
       "<table border=\"1\" class=\"dataframe\">\n",
       "  <thead>\n",
       "    <tr style=\"text-align: right;\">\n",
       "      <th></th>\n",
       "      <th>color</th>\n",
       "      <th>director_name</th>\n",
       "      <th>num_critic_reviews</th>\n",
       "      <th>duration</th>\n",
       "      <th>director_facebook_likes</th>\n",
       "      <th>actor_3_facebook_likes</th>\n",
       "      <th>actor_2_name</th>\n",
       "      <th>actor_1_facebook_likes</th>\n",
       "      <th>gross</th>\n",
       "      <th>genres</th>\n",
       "      <th>...</th>\n",
       "      <th>num_user_reviews</th>\n",
       "      <th>language</th>\n",
       "      <th>country</th>\n",
       "      <th>content_rating</th>\n",
       "      <th>budget</th>\n",
       "      <th>title_year</th>\n",
       "      <th>actor_2_facebook_likes</th>\n",
       "      <th>movie_score</th>\n",
       "      <th>aspect_ratio</th>\n",
       "      <th>movie_facebook_likes</th>\n",
       "    </tr>\n",
       "  </thead>\n",
       "  <tbody>\n",
       "    <tr>\n",
       "      <th>0</th>\n",
       "      <td>Color</td>\n",
       "      <td>James Cameron</td>\n",
       "      <td>723.0</td>\n",
       "      <td>178.0</td>\n",
       "      <td>0.0</td>\n",
       "      <td>855.0</td>\n",
       "      <td>Joel David Moore</td>\n",
       "      <td>1000.0</td>\n",
       "      <td>760505847.0</td>\n",
       "      <td>Action|Adventure|Fantasy|Sci-Fi</td>\n",
       "      <td>...</td>\n",
       "      <td>3054.0</td>\n",
       "      <td>English</td>\n",
       "      <td>USA</td>\n",
       "      <td>PG-13</td>\n",
       "      <td>237000000.0</td>\n",
       "      <td>2009.0</td>\n",
       "      <td>936.0</td>\n",
       "      <td>7.9</td>\n",
       "      <td>1.78</td>\n",
       "      <td>33000</td>\n",
       "    </tr>\n",
       "    <tr>\n",
       "      <th>1</th>\n",
       "      <td>Color</td>\n",
       "      <td>Gore Verbinski</td>\n",
       "      <td>302.0</td>\n",
       "      <td>169.0</td>\n",
       "      <td>563.0</td>\n",
       "      <td>1000.0</td>\n",
       "      <td>Orlando Bloom</td>\n",
       "      <td>40000.0</td>\n",
       "      <td>309404152.0</td>\n",
       "      <td>Action|Adventure|Fantasy</td>\n",
       "      <td>...</td>\n",
       "      <td>1238.0</td>\n",
       "      <td>English</td>\n",
       "      <td>USA</td>\n",
       "      <td>PG-13</td>\n",
       "      <td>300000000.0</td>\n",
       "      <td>2007.0</td>\n",
       "      <td>5000.0</td>\n",
       "      <td>7.1</td>\n",
       "      <td>2.35</td>\n",
       "      <td>0</td>\n",
       "    </tr>\n",
       "    <tr>\n",
       "      <th>2</th>\n",
       "      <td>Color</td>\n",
       "      <td>Sam Mendes</td>\n",
       "      <td>602.0</td>\n",
       "      <td>148.0</td>\n",
       "      <td>0.0</td>\n",
       "      <td>161.0</td>\n",
       "      <td>Rory Kinnear</td>\n",
       "      <td>11000.0</td>\n",
       "      <td>200074175.0</td>\n",
       "      <td>Action|Adventure|Thriller</td>\n",
       "      <td>...</td>\n",
       "      <td>994.0</td>\n",
       "      <td>English</td>\n",
       "      <td>UK</td>\n",
       "      <td>PG-13</td>\n",
       "      <td>245000000.0</td>\n",
       "      <td>2015.0</td>\n",
       "      <td>393.0</td>\n",
       "      <td>6.8</td>\n",
       "      <td>2.35</td>\n",
       "      <td>85000</td>\n",
       "    </tr>\n",
       "    <tr>\n",
       "      <th>3</th>\n",
       "      <td>Color</td>\n",
       "      <td>Christopher Nolan</td>\n",
       "      <td>813.0</td>\n",
       "      <td>164.0</td>\n",
       "      <td>22000.0</td>\n",
       "      <td>23000.0</td>\n",
       "      <td>Christian Bale</td>\n",
       "      <td>27000.0</td>\n",
       "      <td>448130642.0</td>\n",
       "      <td>Action|Thriller</td>\n",
       "      <td>...</td>\n",
       "      <td>2701.0</td>\n",
       "      <td>English</td>\n",
       "      <td>USA</td>\n",
       "      <td>PG-13</td>\n",
       "      <td>250000000.0</td>\n",
       "      <td>2012.0</td>\n",
       "      <td>23000.0</td>\n",
       "      <td>8.5</td>\n",
       "      <td>2.35</td>\n",
       "      <td>164000</td>\n",
       "    </tr>\n",
       "    <tr>\n",
       "      <th>4</th>\n",
       "      <td>NaN</td>\n",
       "      <td>Doug Walker</td>\n",
       "      <td>NaN</td>\n",
       "      <td>NaN</td>\n",
       "      <td>131.0</td>\n",
       "      <td>NaN</td>\n",
       "      <td>Rob Walker</td>\n",
       "      <td>131.0</td>\n",
       "      <td>NaN</td>\n",
       "      <td>Documentary</td>\n",
       "      <td>...</td>\n",
       "      <td>NaN</td>\n",
       "      <td>NaN</td>\n",
       "      <td>NaN</td>\n",
       "      <td>NaN</td>\n",
       "      <td>NaN</td>\n",
       "      <td>NaN</td>\n",
       "      <td>12.0</td>\n",
       "      <td>7.1</td>\n",
       "      <td>NaN</td>\n",
       "      <td>0</td>\n",
       "    </tr>\n",
       "  </tbody>\n",
       "</table>\n",
       "<p>5 rows × 26 columns</p>\n",
       "</div>"
      ],
      "text/plain": [
       "   color      director_name  num_critic_reviews  duration  \\\n",
       "0  Color      James Cameron               723.0     178.0   \n",
       "1  Color     Gore Verbinski               302.0     169.0   \n",
       "2  Color         Sam Mendes               602.0     148.0   \n",
       "3  Color  Christopher Nolan               813.0     164.0   \n",
       "4    NaN        Doug Walker                 NaN       NaN   \n",
       "\n",
       "   director_facebook_likes  actor_3_facebook_likes      actor_2_name  \\\n",
       "0                      0.0                   855.0  Joel David Moore   \n",
       "1                    563.0                  1000.0     Orlando Bloom   \n",
       "2                      0.0                   161.0      Rory Kinnear   \n",
       "3                  22000.0                 23000.0    Christian Bale   \n",
       "4                    131.0                     NaN        Rob Walker   \n",
       "\n",
       "   actor_1_facebook_likes        gross                           genres  ...  \\\n",
       "0                  1000.0  760505847.0  Action|Adventure|Fantasy|Sci-Fi  ...   \n",
       "1                 40000.0  309404152.0         Action|Adventure|Fantasy  ...   \n",
       "2                 11000.0  200074175.0        Action|Adventure|Thriller  ...   \n",
       "3                 27000.0  448130642.0                  Action|Thriller  ...   \n",
       "4                   131.0          NaN                      Documentary  ...   \n",
       "\n",
       "  num_user_reviews language  country  content_rating       budget title_year  \\\n",
       "0           3054.0  English      USA           PG-13  237000000.0     2009.0   \n",
       "1           1238.0  English      USA           PG-13  300000000.0     2007.0   \n",
       "2            994.0  English       UK           PG-13  245000000.0     2015.0   \n",
       "3           2701.0  English      USA           PG-13  250000000.0     2012.0   \n",
       "4              NaN      NaN      NaN             NaN          NaN        NaN   \n",
       "\n",
       "   actor_2_facebook_likes movie_score aspect_ratio movie_facebook_likes  \n",
       "0                   936.0         7.9         1.78                33000  \n",
       "1                  5000.0         7.1         2.35                    0  \n",
       "2                   393.0         6.8         2.35                85000  \n",
       "3                 23000.0         8.5         2.35               164000  \n",
       "4                    12.0         7.1          NaN                    0  \n",
       "\n",
       "[5 rows x 26 columns]"
      ]
     },
     "execution_count": 3,
     "metadata": {},
     "output_type": "execute_result"
    }
   ],
   "source": [
    "df.head()"
   ]
  },
  {
   "cell_type": "code",
   "execution_count": 4,
   "metadata": {},
   "outputs": [
    {
     "data": {
      "text/plain": [
       "(5043, 26)"
      ]
     },
     "execution_count": 4,
     "metadata": {},
     "output_type": "execute_result"
    }
   ],
   "source": [
    "df.shape"
   ]
  },
  {
   "cell_type": "markdown",
   "metadata": {},
   "source": [
    "Here I can see all of the columns that are involved. In the explanation of this coding challenge, a few of the columns were explained. I will be exploring the data to get a better understanding of each of these columns."
   ]
  },
  {
   "cell_type": "code",
   "execution_count": 5,
   "metadata": {},
   "outputs": [
    {
     "data": {
      "text/plain": [
       "Index(['color', 'director_name', 'num_critic_reviews', 'duration',\n",
       "       'director_facebook_likes', 'actor_3_facebook_likes', 'actor_2_name',\n",
       "       'actor_1_facebook_likes', 'gross', 'genres', 'actor_1_name',\n",
       "       'movie_title', 'num_users_voted', 'cast_total_facebook_likes',\n",
       "       'actor_3_name', 'plot_keywords', 'num_user_reviews', 'language',\n",
       "       'country', 'content_rating', 'budget', 'title_year',\n",
       "       'actor_2_facebook_likes', 'movie_score', 'aspect_ratio',\n",
       "       'movie_facebook_likes'],\n",
       "      dtype='object')"
      ]
     },
     "execution_count": 5,
     "metadata": {},
     "output_type": "execute_result"
    }
   ],
   "source": [
    "df.columns"
   ]
  },
  {
   "cell_type": "markdown",
   "metadata": {},
   "source": [
    "# Cleaning the Data\n",
    "In the interest of time, I'm going to remove some of the columns right from the start, before performing various types of analysis such as analysis of null values.  If I had more time, I would certainly look into the other columns."
   ]
  },
  {
   "cell_type": "code",
   "execution_count": 6,
   "metadata": {},
   "outputs": [],
   "source": [
    "# remove columns that I don't have time to analyze\n",
    "df = df[['duration','gross','genres','aspect_ratio','budget','title_year','movie_score']]"
   ]
  },
  {
   "cell_type": "markdown",
   "metadata": {},
   "source": [
    "## Checking for duplicates\n",
    "From below I can see that there are some duplicated rows. I'm going to drop these duplicates using the drop_duplicates() method"
   ]
  },
  {
   "cell_type": "code",
   "execution_count": 7,
   "metadata": {},
   "outputs": [
    {
     "data": {
      "text/html": [
       "<div>\n",
       "<style scoped>\n",
       "    .dataframe tbody tr th:only-of-type {\n",
       "        vertical-align: middle;\n",
       "    }\n",
       "\n",
       "    .dataframe tbody tr th {\n",
       "        vertical-align: top;\n",
       "    }\n",
       "\n",
       "    .dataframe thead th {\n",
       "        text-align: right;\n",
       "    }\n",
       "</style>\n",
       "<table border=\"1\" class=\"dataframe\">\n",
       "  <thead>\n",
       "    <tr style=\"text-align: right;\">\n",
       "      <th></th>\n",
       "      <th>duration</th>\n",
       "      <th>gross</th>\n",
       "      <th>genres</th>\n",
       "      <th>aspect_ratio</th>\n",
       "      <th>budget</th>\n",
       "      <th>title_year</th>\n",
       "      <th>movie_score</th>\n",
       "    </tr>\n",
       "  </thead>\n",
       "  <tbody>\n",
       "    <tr>\n",
       "      <th>137</th>\n",
       "      <td>110.0</td>\n",
       "      <td>124051759.0</td>\n",
       "      <td>Action|Adventure|Drama|Romance</td>\n",
       "      <td>2.35</td>\n",
       "      <td>180000000.0</td>\n",
       "      <td>2016.0</td>\n",
       "      <td>6.6</td>\n",
       "    </tr>\n",
       "    <tr>\n",
       "      <th>187</th>\n",
       "      <td>115.0</td>\n",
       "      <td>292298923.0</td>\n",
       "      <td>Adventure|Drama|Fantasy|Romance</td>\n",
       "      <td>2.35</td>\n",
       "      <td>120000000.0</td>\n",
       "      <td>2012.0</td>\n",
       "      <td>5.5</td>\n",
       "    </tr>\n",
       "    <tr>\n",
       "      <th>204</th>\n",
       "      <td>120.0</td>\n",
       "      <td>NaN</td>\n",
       "      <td>Action|Adventure|Drama|Horror|Sci-Fi</td>\n",
       "      <td>2.35</td>\n",
       "      <td>NaN</td>\n",
       "      <td>2016.0</td>\n",
       "      <td>8.2</td>\n",
       "    </tr>\n",
       "    <tr>\n",
       "      <th>303</th>\n",
       "      <td>111.0</td>\n",
       "      <td>34964818.0</td>\n",
       "      <td>Adventure|Family|Fantasy</td>\n",
       "      <td>2.35</td>\n",
       "      <td>150000000.0</td>\n",
       "      <td>2015.0</td>\n",
       "      <td>5.8</td>\n",
       "    </tr>\n",
       "    <tr>\n",
       "      <th>389</th>\n",
       "      <td>100.0</td>\n",
       "      <td>56114221.0</td>\n",
       "      <td>Action|Adventure|Sci-Fi</td>\n",
       "      <td>2.35</td>\n",
       "      <td>120000000.0</td>\n",
       "      <td>2015.0</td>\n",
       "      <td>4.3</td>\n",
       "    </tr>\n",
       "  </tbody>\n",
       "</table>\n",
       "</div>"
      ],
      "text/plain": [
       "     duration        gross                                genres  \\\n",
       "137     110.0  124051759.0        Action|Adventure|Drama|Romance   \n",
       "187     115.0  292298923.0       Adventure|Drama|Fantasy|Romance   \n",
       "204     120.0          NaN  Action|Adventure|Drama|Horror|Sci-Fi   \n",
       "303     111.0   34964818.0              Adventure|Family|Fantasy   \n",
       "389     100.0   56114221.0               Action|Adventure|Sci-Fi   \n",
       "\n",
       "     aspect_ratio       budget  title_year  movie_score  \n",
       "137          2.35  180000000.0      2016.0          6.6  \n",
       "187          2.35  120000000.0      2012.0          5.5  \n",
       "204          2.35          NaN      2016.0          8.2  \n",
       "303          2.35  150000000.0      2015.0          5.8  \n",
       "389          2.35  120000000.0      2015.0          4.3  "
      ]
     },
     "execution_count": 7,
     "metadata": {},
     "output_type": "execute_result"
    }
   ],
   "source": [
    "duplicateRowsDF = df[df.duplicated()]\n",
    "duplicateRowsDF.head()"
   ]
  },
  {
   "cell_type": "code",
   "execution_count": 8,
   "metadata": {},
   "outputs": [],
   "source": [
    "df = df.drop_duplicates()"
   ]
  },
  {
   "cell_type": "markdown",
   "metadata": {},
   "source": [
    "## Null Values\n",
    "The first step will be to look at the data that is missing. Using df.isnull() I was able to determine that there are missing values. From here, I want to calculate the percentage of each column that is missing."
   ]
  },
  {
   "cell_type": "code",
   "execution_count": 9,
   "metadata": {},
   "outputs": [],
   "source": [
    "# calculating the number missing\n",
    "df_missing = df.isna()\n",
    "df_num_missing = df_missing.sum()\n",
    "\n",
    "# converting to a percentage\n",
    "df_num_missing_perc = df_num_missing / len(df) * 100\n",
    "\n",
    "# sorting the df\n",
    "df_num_missing_perc = df_num_missing_perc.sort_values()\n",
    "\n",
    "# only keeping values where the percentage missing is greater than 0\n",
    "df_num_missing_perc = df_num_missing_perc[df_num_missing_perc>0]"
   ]
  },
  {
   "cell_type": "markdown",
   "metadata": {},
   "source": [
    "Below is a chart that shows all of the columns with more than 0 percent missing values. The gross and budget have the most missing values; however, these are the variables that I want to use in my analysis to determine which movies were successful or not successful. Because of that, it does not make sense to perform imputation since I want these values to be as accurate as possible for the analysis."
   ]
  },
  {
   "cell_type": "code",
   "execution_count": 10,
   "metadata": {},
   "outputs": [
    {
     "data": {
      "image/png": "[encoded data removed]",
      "text/plain": [
       "<Figure size 720x432 with 1 Axes>"
      ]
     },
     "metadata": {
      "needs_background": "light"
     },
     "output_type": "display_data"
    }
   ],
   "source": [
    "plt.barh(df_num_missing_perc.index, df_num_missing_perc,color='red')\n",
    "fig = plt.gcf()\n",
    "fig.set_size_inches(10, 6)\n",
    "fig.savefig('percentage_missing.png', dpi=100)\n",
    "plt.title('Percentage of Each Column with Missing Data')\n",
    "plt.xlabel('Percentage Missing')\n",
    "plt.ylabel('Column Title')\n",
    "plt.show()"
   ]
  },
  {
   "cell_type": "code",
   "execution_count": 11,
   "metadata": {},
   "outputs": [],
   "source": [
    "# removing all rows where there is an empty value in the gross or budget column\n",
    "mod_df = df.dropna( how='any',subset=['gross','budget']).copy()"
   ]
  },
  {
   "cell_type": "markdown",
   "metadata": {},
   "source": [
    "The column with the next most null values is aspect_ratio. First, I look at what the values are for the aspect ratio. Here, I can see that most of the movies have an aspect ratio of either 1.85 or 2.35. "
   ]
  },
  {
   "cell_type": "code",
   "execution_count": 12,
   "metadata": {},
   "outputs": [
    {
     "data": {
      "text/plain": [
       "1.18        1\n",
       "1.33       19\n",
       "1.37       50\n",
       "1.50        1\n",
       "1.66       40\n",
       "1.75        2\n",
       "1.77        1\n",
       "1.78       41\n",
       "1.85     1582\n",
       "2.00        3\n",
       "2.20       10\n",
       "2.24        1\n",
       "2.35     1946\n",
       "2.39       11\n",
       "2.40        3\n",
       "2.55        1\n",
       "2.76        3\n",
       "16.00       1\n",
       "Name: aspect_ratio, dtype: int64"
      ]
     },
     "execution_count": 12,
     "metadata": {},
     "output_type": "execute_result"
    }
   ],
   "source": [
    "aspect_ratio_counts = mod_df['aspect_ratio'].value_counts()\n",
    "aspect_ratio_counts.sort_index()"
   ]
  },
  {
   "cell_type": "markdown",
   "metadata": {},
   "source": [
    "### Incorporating Domain Knowledge to Engineer Aspect Ratio Column\n",
    "I don't think it makes sense to leave this as a numerical column. From a quick google search, it is apparent that the two common aspect ratios are 1.85 and 2.39. This makes aspect ratio seem more to me like a categorical variable, since it is not necessarily continuous. Because of this, I am going to break the aspect_ratio into 3 categories: 1.85, 2.35, and other. \n",
    "\n",
    "To fill the missing values, I can either decide to put them into the \"other\" category or I can put them into the most frequent category. Since the \"other\" category is so much smaller than the 1.85 or the 2.35 categories, the probability seems low that the empty values would be \"other\". They would most likely be either 1.85 or 2.35. Because of this, I am going to fill the null values with the most frequent."
   ]
  },
  {
   "cell_type": "code",
   "execution_count": 13,
   "metadata": {},
   "outputs": [],
   "source": [
    "# filling null values in aspect_ratio with most frequent\n",
    "mod_df['aspect_ratio'] = mod_df['aspect_ratio'].fillna(mod_df.aspect_ratio.mode())"
   ]
  },
  {
   "cell_type": "code",
   "execution_count": 14,
   "metadata": {},
   "outputs": [],
   "source": [
    "def determine_aspect_ratio_var(row):\n",
    "    if row == 1.85:\n",
    "        return \"1.85\"\n",
    "    elif row == 2.35:\n",
    "        return \"2.35\"\n",
    "    else:\n",
    "        return \"other\""
   ]
  },
  {
   "cell_type": "code",
   "execution_count": 15,
   "metadata": {},
   "outputs": [],
   "source": [
    "# map the new aspect ratio column\n",
    "mod_df['aspect_ratio_categorical'] = mod_df['aspect_ratio'].map(determine_aspect_ratio_var)\n",
    "\n",
    "# drop the column from the dataframe\n",
    "mod_df = mod_df.drop('aspect_ratio', axis=1)"
   ]
  },
  {
   "cell_type": "markdown",
   "metadata": {},
   "source": [
    "Next I'll be filling in the title_year and duration columns. These are continuous numeric columns so it makes sense to me to use imputation to fill all the missing values."
   ]
  },
  {
   "cell_type": "code",
   "execution_count": 16,
   "metadata": {},
   "outputs": [],
   "source": [
    "mod_df['title_year'].fillna(np.mean(mod_df['title_year']), inplace=True)\n",
    "mod_df['duration'].fillna(np.mean(mod_df['duration']), inplace=True)"
   ]
  },
  {
   "cell_type": "code",
   "execution_count": 17,
   "metadata": {},
   "outputs": [
    {
     "data": {
      "text/plain": [
       "duration                    0\n",
       "gross                       0\n",
       "genres                      0\n",
       "budget                      0\n",
       "title_year                  0\n",
       "movie_score                 0\n",
       "aspect_ratio_categorical    0\n",
       "dtype: int64"
      ]
     },
     "execution_count": 17,
     "metadata": {},
     "output_type": "execute_result"
    }
   ],
   "source": [
    "# all values are now filled in for the dataframe that I will be working with\n",
    "mod_df.isnull().sum()"
   ]
  },
  {
   "cell_type": "code",
   "execution_count": 18,
   "metadata": {},
   "outputs": [],
   "source": [
    "# reset the index since I just dropped some columns, to avoid gaps\n",
    "mod_df = mod_df.reset_index()"
   ]
  },
  {
   "cell_type": "code",
   "execution_count": 19,
   "metadata": {},
   "outputs": [],
   "source": [
    "# split the genres column by the | so that it becomes a comma-separated list\n",
    "mod_df['genres'] = mod_df['genres'].str.split('|')"
   ]
  },
  {
   "cell_type": "markdown",
   "metadata": {},
   "source": [
    "# EDA\n"
   ]
  },
  {
   "cell_type": "markdown",
   "metadata": {},
   "source": [
    "### Analysis of Gross per Year\n",
    "Below, I'm graphing the number of movies each year, total movie gross each year, and average movie gross each year. Here I can see that the number of movies released each year aws very small up until 1980 where it started increasing drastically until 2000 where it leveled off. Then in the last 2 years it decreased. In the \"Average Movie Gross Per Year\" there was a big spike in 1940. However, upon looking into it more, there were just 2 movies that were released that year. In fact, the average movie gross bounced around a lot before 1980, which makes sense when considering that there were relatively few releases during that time. After 1980 there was a lot less variance in the average movie gross, since there were more movies to average on. The \"Total Movie Gross Per Year\" column closely aligns with the number of movies released each year. This makes sense because as more movies are released, there would be more total gross each year."
   ]
  },
  {
   "cell_type": "code",
   "execution_count": 20,
   "metadata": {},
   "outputs": [
    {
     "data": {
      "image/png": "[encoded data removed]",
      "text/plain": [
       "<Figure size 432x288 with 1 Axes>"
      ]
     },
     "metadata": {
      "needs_background": "light"
     },
     "output_type": "display_data"
    },
    {
     "data": {
      "image/png": "[encoded data removed]",
      "text/plain": [
       "<Figure size 432x288 with 1 Axes>"
      ]
     },
     "metadata": {
      "needs_background": "light"
     },
     "output_type": "display_data"
    },
    {
     "data": {
      "image/png": "[encoded data removed]",
      "text/plain": [
       "<Figure size 432x288 with 1 Axes>"
      ]
     },
     "metadata": {
      "needs_background": "light"
     },
     "output_type": "display_data"
    }
   ],
   "source": [
    "# plotting number of movies released each year\n",
    "plt.bar(mod_df.groupby('title_year').count()['gross'].index, mod_df.groupby('title_year').count()['gross'])\n",
    "plt.title(\"Number of Movies Released Each Year\")\n",
    "plt.ylabel('Count')\n",
    "plt.xlabel('Year')\n",
    "plt.savefig('number_of_movies_released_each_year.png', dpi=100)\n",
    "plt.show()\n",
    "\n",
    "# plotting total movie gross per year\n",
    "plt.plot(mod_df.groupby('title_year').sum()['gross'])\n",
    "plt.title('Total Movie Gross Per Year')\n",
    "plt.ylabel('Millions ($)')\n",
    "plt.xlabel('Year')\n",
    "plt.savefig('total_movie_gross_each_year.png', dpi=100)\n",
    "\n",
    "plt.show()\n",
    "\n",
    "# plotting average movie gross per year\n",
    "plt.plot(mod_df.groupby('title_year').mean()['gross'])\n",
    "plt.title('Average Movie Gross Per Year')\n",
    "plt.ylabel('Millions ($)')\n",
    "plt.xlabel('Year')\n",
    "plt.savefig('average_movie_gross_each_year.png', dpi=100)\n",
    "\n",
    "plt.show()"
   ]
  },
  {
   "cell_type": "markdown",
   "metadata": {},
   "source": [
    "## Analysis of Movie Genres\n",
    "Below, I can see the frequency of each genre. This includes the frequency that each genre shows up in the list in the 'genre' column, regardless of the order of that list. I will be doing further analysis of the genres below.\n",
    "\n",
    "### Utilizing Stats Knowledge\n",
    "Most statisticians agree that the minimum sample size to get any kind of meaningful result is 100. This sample size can vary depending on the type of data that is being worked with and the desired confidence level.  In this case, I think 100 is a reasonable number for futher analysis. This means I will be excluding the genres: Film-Noir, Short, Western, and Documentary."
   ]
  },
  {
   "cell_type": "code",
   "execution_count": 21,
   "metadata": {},
   "outputs": [
    {
     "data": {
      "image/png": "[encoded data removed]",
      "text/plain": [
       "<Figure size 720x576 with 1 Axes>"
      ]
     },
     "metadata": {
      "needs_background": "light"
     },
     "output_type": "display_data"
    }
   ],
   "source": [
    "plt.subplots(figsize=(10,8))\n",
    "genre_list=[]\n",
    "# create a genre_list and append all of the lists to that genre_list using extend\n",
    "for i in mod_df['genres']:\n",
    "    genre_list.extend(i)\n",
    "\n",
    "# count the values and plot\n",
    "counts_per_genre = pd.Series(genre_list).value_counts().sort_values()\n",
    "ax=counts_per_genre.plot.barh(width=0.9)\n",
    "plt.title('Frequency of Movie Genres')\n",
    "plt.savefig('frequency_of_movie_genres.png', dpi=100)\n",
    "plt.show()"
   ]
  },
  {
   "cell_type": "code",
   "execution_count": 22,
   "metadata": {},
   "outputs": [],
   "source": [
    "# getting list of unique genres that are above the threshold of 100 to perform further analysis\n",
    "unique_genres = list(counts_per_genre[counts_per_genre>100].index)"
   ]
  },
  {
   "cell_type": "markdown",
   "metadata": {},
   "source": [
    "### Converting Genres List Column to Binary Columns\n",
    "In this case, the 'genres' column has a list of all the genres that each movie is in. In order to perform further analysis, I want to convert this single column which contains a list into many binary columns where each column represents another genre of interest. To do this, I create a new dataframe and iterate through each of the rows of the old dataframe to create a row that is correctly represented with binary columns which I then append to new dataframe. This ran pretty fast - only about 5 seconds or so."
   ]
  },
  {
   "cell_type": "code",
   "execution_count": 23,
   "metadata": {},
   "outputs": [],
   "source": [
    "# create dataframe with columns that contain all of the genres of interest\n",
    "genre_df = pd.DataFrame(columns=unique_genres)\n",
    "\n",
    "# iterate through each row of mod_df\n",
    "for i in range(len(mod_df)):\n",
    "    row = mod_df.loc[i]['genres']\n",
    "    genres_row = []\n",
    "    # for every genre in the genres of interest, if it is contained in the list for that row, then append '1' to the list, otherwise append '0'\n",
    "    for genre in unique_genres:\n",
    "        if genre in row:\n",
    "            genres_row.append(1)\n",
    "        else:\n",
    "            genres_row.append(0)\n",
    "    # create dataframe row based upon the newly created list and append to the end of genre_df\n",
    "    new_genre_df_row = pd.DataFrame(columns=unique_genres, data = [genres_row])\n",
    "    genre_df = genre_df.append(new_genre_df_row)\n",
    "    \n",
    "# reset the index of the genre, so that I can join back to the original dataframe\n",
    "genre_df = genre_df.reset_index(drop=True)"
   ]
  },
  {
   "cell_type": "code",
   "execution_count": 24,
   "metadata": {},
   "outputs": [],
   "source": [
    "# append the columns to the dataframe and drop the old 'genres' column\n",
    "mod_df = mod_df.drop('genres', axis=1).join(genre_df)"
   ]
  },
  {
   "cell_type": "code",
   "execution_count": 25,
   "metadata": {},
   "outputs": [],
   "source": [
    "# convert to type int32 so that the columns are numerical and not categorical\n",
    "mod_df[unique_genres] = mod_df[unique_genres].astype('int32')"
   ]
  },
  {
   "cell_type": "markdown",
   "metadata": {},
   "source": [
    "## Statistics by Genre\n",
    "I wrote a function below which I will use to create several charts. The function uses the groupby().mean() to find the average value of a certain statistic for each genre. It then creates a series which contains all of these statistics. It then plots the dataframe as a horizontal bar plot. Finally, it returns a dataframe which contains the calculated values, which can then be appended to a statistics_by_genre dataframe."
   ]
  },
  {
   "cell_type": "code",
   "execution_count": 26,
   "metadata": {},
   "outputs": [],
   "source": [
    "def plot_statistics_by_genre(stat_type, title, xlabel, ylabel,color):\n",
    "    statistics_by_genre = []\n",
    "   \n",
    "    # iterate through all of the genres of interest\n",
    "    for genre in unique_genres:\n",
    "        # find the average value of a certain statistic for each genre\n",
    "        statistics_by_genre.append(mod_df.groupby(genre).mean()[stat_type][1])\n",
    "    # create a series which contains all of the statistics that were just calculated\n",
    "    statistics_by_genre_df = pd.Series(index = unique_genres, data = statistics_by_genre)\n",
    "    # sort the series\n",
    "    statistics_by_genre_df.sort_values(inplace=True)\n",
    "    \n",
    "    # plot the series\n",
    "    plt.subplots(figsize=(10,8))\n",
    "    plt.barh(statistics_by_genre_df.index, statistics_by_genre_df,color=color)\n",
    "    plt.title(title)\n",
    "    plt.xlabel(xlabel)\n",
    "    plt.ylabel(ylabel)\n",
    "    plt.savefig(title+'.png', dpi=100)\n",
    "    plt.show()\n",
    "    # return the series as a dataframe, to easily join with other dataframes\n",
    "    return pd.DataFrame(statistics_by_genre_df, columns=[title])"
   ]
  },
  {
   "cell_type": "code",
   "execution_count": 27,
   "metadata": {},
   "outputs": [
    {
     "data": {
      "image/png": "[encoded data removed]",
      "text/plain": [
       "<Figure size 720x576 with 1 Axes>"
      ]
     },
     "metadata": {
      "needs_background": "light"
     },
     "output_type": "display_data"
    }
   ],
   "source": [
    "# calculate average rating for each genre\n",
    "average_ratings_by_genre = plot_statistics_by_genre('movie_score','Average Rating for Each Genre','Average Rating','Genre','green')\n",
    "statistics_by_genre = average_ratings_by_genre"
   ]
  },
  {
   "cell_type": "code",
   "execution_count": 28,
   "metadata": {},
   "outputs": [
    {
     "data": {
      "image/png": "[encoded data removed]",
      "text/plain": [
       "<Figure size 720x576 with 1 Axes>"
      ]
     },
     "metadata": {
      "needs_background": "light"
     },
     "output_type": "display_data"
    }
   ],
   "source": [
    "# calculate average gross for each genre\n",
    "average_gross_by_genre = plot_statistics_by_genre('gross','Average Gross for Each Genre','Average Gross (in millions)','Genre','purple')\n",
    "statistics_by_genre = statistics_by_genre.join(average_gross_by_genre)"
   ]
  },
  {
   "cell_type": "code",
   "execution_count": 29,
   "metadata": {},
   "outputs": [
    {
     "data": {
      "image/png": "[encoded data removed]",
      "text/plain": [
       "<Figure size 720x576 with 1 Axes>"
      ]
     },
     "metadata": {
      "needs_background": "light"
     },
     "output_type": "display_data"
    }
   ],
   "source": [
    "# calculate average budget for each genre\n",
    "average_budget_by_genre = plot_statistics_by_genre('budget','Average Budget for Each Genre','Average Budget (in millions)','Genre','orange')\n",
    "statistics_by_genre = statistics_by_genre.join(average_budget_by_genre)"
   ]
  },
  {
   "cell_type": "code",
   "execution_count": 30,
   "metadata": {
    "scrolled": true
   },
   "outputs": [
    {
     "data": {
      "image/png": "[encoded data removed]",
      "text/plain": [
       "<Figure size 720x576 with 1 Axes>"
      ]
     },
     "metadata": {
      "needs_background": "light"
     },
     "output_type": "display_data"
    }
   ],
   "source": [
    "# calculate average duration for each genre\n",
    "average_duration_by_genre = plot_statistics_by_genre('duration','Average Duration for Each Genre','Average Duration','Genre','pink')\n",
    "statistics_by_genre = statistics_by_genre.join(average_duration_by_genre)"
   ]
  },
  {
   "cell_type": "markdown",
   "metadata": {},
   "source": [
    "### Use Math/Statistics to Create a New Useful Metric\n",
    "To calculate the revenue/budget ratio, I first have to get the revenue. My given column is called Gross. Gross profit is defined Gross = Revenue - Expenses. Therefore, Revenue = Gross + Expenses. Therefore, in order to calculate the revenue/budget ratio, the formula would be (Gross + Budget ) / Budget. This would get the average revenue per dollar spent (assuming the expenses didn't go too far over or under the budget)."
   ]
  },
  {
   "cell_type": "code",
   "execution_count": 31,
   "metadata": {},
   "outputs": [],
   "source": [
    "# calculate the revenue/budget ratio\n",
    "statistics_by_genre['revenue_budget_ratio'] = (statistics_by_genre['Average Gross for Each Genre'] + statistics_by_genre['Average Budget for Each Genre'])/ statistics_by_genre['Average Budget for Each Genre']"
   ]
  },
  {
   "cell_type": "code",
   "execution_count": 32,
   "metadata": {},
   "outputs": [
    {
     "data": {
      "image/png": "[encoded data removed]",
      "text/plain": [
       "<Figure size 720x576 with 1 Axes>"
      ]
     },
     "metadata": {
      "needs_background": "light"
     },
     "output_type": "display_data"
    }
   ],
   "source": [
    "# plot the revenue/budget ratio\n",
    "statistics_by_genre = statistics_by_genre.sort_values(by = 'revenue_budget_ratio')\n",
    "plt.subplots(figsize=(10,8))\n",
    "plt.barh(statistics_by_genre.index, statistics_by_genre['revenue_budget_ratio'],color='brown')\n",
    "title = \"Return per Dollar Spent\"\n",
    "plt.title(title)\n",
    "plt.xlabel(\"Return per Dollar Spent\")\n",
    "plt.ylabel(\"Genre\")\n",
    "plt.savefig(title+'.png', dpi=100)\n",
    "plt.show()"
   ]
  },
  {
   "cell_type": "code",
   "execution_count": 33,
   "metadata": {},
   "outputs": [
    {
     "data": {
      "text/html": [
       "<div>\n",
       "<style scoped>\n",
       "    .dataframe tbody tr th:only-of-type {\n",
       "        vertical-align: middle;\n",
       "    }\n",
       "\n",
       "    .dataframe tbody tr th {\n",
       "        vertical-align: top;\n",
       "    }\n",
       "\n",
       "    .dataframe thead th {\n",
       "        text-align: right;\n",
       "    }\n",
       "</style>\n",
       "<table border=\"1\" class=\"dataframe\">\n",
       "  <thead>\n",
       "    <tr style=\"text-align: right;\">\n",
       "      <th></th>\n",
       "      <th>Average Rating for Each Genre</th>\n",
       "      <th>Average Gross for Each Genre</th>\n",
       "      <th>Average Budget for Each Genre</th>\n",
       "      <th>Average Duration for Each Genre</th>\n",
       "      <th>revenue_budget_ratio</th>\n",
       "    </tr>\n",
       "  </thead>\n",
       "  <tbody>\n",
       "    <tr>\n",
       "      <th>War</th>\n",
       "      <td>7.048428</td>\n",
       "      <td>4.011282e+07</td>\n",
       "      <td>6.332361e+07</td>\n",
       "      <td>132.729560</td>\n",
       "      <td>1.633458</td>\n",
       "    </tr>\n",
       "    <tr>\n",
       "      <th>Horror</th>\n",
       "      <td>5.903958</td>\n",
       "      <td>3.420813e+07</td>\n",
       "      <td>5.350955e+07</td>\n",
       "      <td>99.989446</td>\n",
       "      <td>1.639290</td>\n",
       "    </tr>\n",
       "    <tr>\n",
       "      <th>History</th>\n",
       "      <td>7.122876</td>\n",
       "      <td>3.662936e+07</td>\n",
       "      <td>4.648342e+07</td>\n",
       "      <td>137.954248</td>\n",
       "      <td>1.788009</td>\n",
       "    </tr>\n",
       "    <tr>\n",
       "      <th>Sci-Fi</th>\n",
       "      <td>6.327273</td>\n",
       "      <td>8.220839e+07</td>\n",
       "      <td>9.812494e+07</td>\n",
       "      <td>110.735537</td>\n",
       "      <td>1.837793</td>\n",
       "    </tr>\n",
       "    <tr>\n",
       "      <th>Drama</th>\n",
       "      <td>6.787774</td>\n",
       "      <td>3.622543e+07</td>\n",
       "      <td>3.992787e+07</td>\n",
       "      <td>115.993730</td>\n",
       "      <td>1.907272</td>\n",
       "    </tr>\n",
       "    <tr>\n",
       "      <th>Animation</th>\n",
       "      <td>6.700508</td>\n",
       "      <td>1.076618e+08</td>\n",
       "      <td>1.071431e+08</td>\n",
       "      <td>91.030457</td>\n",
       "      <td>2.004841</td>\n",
       "    </tr>\n",
       "    <tr>\n",
       "      <th>Crime</th>\n",
       "      <td>6.545661</td>\n",
       "      <td>3.867013e+07</td>\n",
       "      <td>3.792698e+07</td>\n",
       "      <td>111.256046</td>\n",
       "      <td>2.019594</td>\n",
       "    </tr>\n",
       "    <tr>\n",
       "      <th>Action</th>\n",
       "      <td>6.285989</td>\n",
       "      <td>7.563954e+07</td>\n",
       "      <td>7.071363e+07</td>\n",
       "      <td>113.185027</td>\n",
       "      <td>2.069660</td>\n",
       "    </tr>\n",
       "    <tr>\n",
       "      <th>Thriller</th>\n",
       "      <td>6.372309</td>\n",
       "      <td>4.814326e+07</td>\n",
       "      <td>4.360698e+07</td>\n",
       "      <td>110.491260</td>\n",
       "      <td>2.104026</td>\n",
       "    </tr>\n",
       "    <tr>\n",
       "      <th>Adventure</th>\n",
       "      <td>6.454961</td>\n",
       "      <td>9.731147e+07</td>\n",
       "      <td>8.434784e+07</td>\n",
       "      <td>113.406005</td>\n",
       "      <td>2.153693</td>\n",
       "    </tr>\n",
       "    <tr>\n",
       "      <th>Comedy</th>\n",
       "      <td>6.183311</td>\n",
       "      <td>4.973661e+07</td>\n",
       "      <td>4.167350e+07</td>\n",
       "      <td>100.871984</td>\n",
       "      <td>2.193483</td>\n",
       "    </tr>\n",
       "    <tr>\n",
       "      <th>Fantasy</th>\n",
       "      <td>6.285081</td>\n",
       "      <td>8.492479e+07</td>\n",
       "      <td>6.882901e+07</td>\n",
       "      <td>105.653226</td>\n",
       "      <td>2.233852</td>\n",
       "    </tr>\n",
       "    <tr>\n",
       "      <th>Biography</th>\n",
       "      <td>7.140083</td>\n",
       "      <td>3.572751e+07</td>\n",
       "      <td>2.795390e+07</td>\n",
       "      <td>125.256198</td>\n",
       "      <td>2.278087</td>\n",
       "    </tr>\n",
       "    <tr>\n",
       "      <th>Romance</th>\n",
       "      <td>6.423963</td>\n",
       "      <td>4.285247e+07</td>\n",
       "      <td>3.337214e+07</td>\n",
       "      <td>110.437561</td>\n",
       "      <td>2.284079</td>\n",
       "    </tr>\n",
       "    <tr>\n",
       "      <th>Mystery</th>\n",
       "      <td>6.469496</td>\n",
       "      <td>4.629866e+07</td>\n",
       "      <td>3.597900e+07</td>\n",
       "      <td>110.896552</td>\n",
       "      <td>2.286825</td>\n",
       "    </tr>\n",
       "    <tr>\n",
       "      <th>Family</th>\n",
       "      <td>6.202262</td>\n",
       "      <td>8.959324e+07</td>\n",
       "      <td>6.858485e+07</td>\n",
       "      <td>98.321267</td>\n",
       "      <td>2.306312</td>\n",
       "    </tr>\n",
       "    <tr>\n",
       "      <th>Musical</th>\n",
       "      <td>6.550980</td>\n",
       "      <td>5.549141e+07</td>\n",
       "      <td>4.118176e+07</td>\n",
       "      <td>108.500000</td>\n",
       "      <td>2.347475</td>\n",
       "    </tr>\n",
       "    <tr>\n",
       "      <th>Sport</th>\n",
       "      <td>6.601361</td>\n",
       "      <td>4.295764e+07</td>\n",
       "      <td>3.184667e+07</td>\n",
       "      <td>111.904762</td>\n",
       "      <td>2.348889</td>\n",
       "    </tr>\n",
       "    <tr>\n",
       "      <th>Music</th>\n",
       "      <td>6.371698</td>\n",
       "      <td>3.765840e+07</td>\n",
       "      <td>2.219310e+07</td>\n",
       "      <td>109.767296</td>\n",
       "      <td>2.696852</td>\n",
       "    </tr>\n",
       "  </tbody>\n",
       "</table>\n",
       "</div>"
      ],
      "text/plain": [
       "           Average Rating for Each Genre  Average Gross for Each Genre  \\\n",
       "War                             7.048428                  4.011282e+07   \n",
       "Horror                          5.903958                  3.420813e+07   \n",
       "History                         7.122876                  3.662936e+07   \n",
       "Sci-Fi                          6.327273                  8.220839e+07   \n",
       "Drama                           6.787774                  3.622543e+07   \n",
       "Animation                       6.700508                  1.076618e+08   \n",
       "Crime                           6.545661                  3.867013e+07   \n",
       "Action                          6.285989                  7.563954e+07   \n",
       "Thriller                        6.372309                  4.814326e+07   \n",
       "Adventure                       6.454961                  9.731147e+07   \n",
       "Comedy                          6.183311                  4.973661e+07   \n",
       "Fantasy                         6.285081                  8.492479e+07   \n",
       "Biography                       7.140083                  3.572751e+07   \n",
       "Romance                         6.423963                  4.285247e+07   \n",
       "Mystery                         6.469496                  4.629866e+07   \n",
       "Family                          6.202262                  8.959324e+07   \n",
       "Musical                         6.550980                  5.549141e+07   \n",
       "Sport                           6.601361                  4.295764e+07   \n",
       "Music                           6.371698                  3.765840e+07   \n",
       "\n",
       "           Average Budget for Each Genre  Average Duration for Each Genre  \\\n",
       "War                         6.332361e+07                       132.729560   \n",
       "Horror                      5.350955e+07                        99.989446   \n",
       "History                     4.648342e+07                       137.954248   \n",
       "Sci-Fi                      9.812494e+07                       110.735537   \n",
       "Drama                       3.992787e+07                       115.993730   \n",
       "Animation                   1.071431e+08                        91.030457   \n",
       "Crime                       3.792698e+07                       111.256046   \n",
       "Action                      7.071363e+07                       113.185027   \n",
       "Thriller                    4.360698e+07                       110.491260   \n",
       "Adventure                   8.434784e+07                       113.406005   \n",
       "Comedy                      4.167350e+07                       100.871984   \n",
       "Fantasy                     6.882901e+07                       105.653226   \n",
       "Biography                   2.795390e+07                       125.256198   \n",
       "Romance                     3.337214e+07                       110.437561   \n",
       "Mystery                     3.597900e+07                       110.896552   \n",
       "Family                      6.858485e+07                        98.321267   \n",
       "Musical                     4.118176e+07                       108.500000   \n",
       "Sport                       3.184667e+07                       111.904762   \n",
       "Music                       2.219310e+07                       109.767296   \n",
       "\n",
       "           revenue_budget_ratio  \n",
       "War                    1.633458  \n",
       "Horror                 1.639290  \n",
       "History                1.788009  \n",
       "Sci-Fi                 1.837793  \n",
       "Drama                  1.907272  \n",
       "Animation              2.004841  \n",
       "Crime                  2.019594  \n",
       "Action                 2.069660  \n",
       "Thriller               2.104026  \n",
       "Adventure              2.153693  \n",
       "Comedy                 2.193483  \n",
       "Fantasy                2.233852  \n",
       "Biography              2.278087  \n",
       "Romance                2.284079  \n",
       "Mystery                2.286825  \n",
       "Family                 2.306312  \n",
       "Musical                2.347475  \n",
       "Sport                  2.348889  \n",
       "Music                  2.696852  "
      ]
     },
     "execution_count": 33,
     "metadata": {},
     "output_type": "execute_result"
    }
   ],
   "source": [
    "statistics_by_genre"
   ]
  },
  {
   "cell_type": "markdown",
   "metadata": {},
   "source": [
    "## Analysis of Aspect Ratio\n",
    "Below I can see that every genre uses aspect ratios from all 3 categories. Also I can see that movies with aspect ratios of 1.85 or 2.35 typically have a larger budget and gross amount, probably because they were meant more for a general audience. The movies with any other aspect ratio typically had a lower gross/budget but they did have a slightly better score. This is probably because these movies are more niche and artistic which leads to a better movie_score but with less money involved."
   ]
  },
  {
   "cell_type": "code",
   "execution_count": 34,
   "metadata": {},
   "outputs": [
    {
     "data": {
      "text/html": [
       "<div>\n",
       "<style scoped>\n",
       "    .dataframe tbody tr th:only-of-type {\n",
       "        vertical-align: middle;\n",
       "    }\n",
       "\n",
       "    .dataframe tbody tr th {\n",
       "        vertical-align: top;\n",
       "    }\n",
       "\n",
       "    .dataframe thead th {\n",
       "        text-align: right;\n",
       "    }\n",
       "</style>\n",
       "<table border=\"1\" class=\"dataframe\">\n",
       "  <thead>\n",
       "    <tr style=\"text-align: right;\">\n",
       "      <th></th>\n",
       "      <th>Musical</th>\n",
       "      <th>Sport</th>\n",
       "      <th>History</th>\n",
       "      <th>Music</th>\n",
       "      <th>War</th>\n",
       "      <th>Animation</th>\n",
       "      <th>Biography</th>\n",
       "      <th>Mystery</th>\n",
       "      <th>Horror</th>\n",
       "      <th>Family</th>\n",
       "      <th>Sci-Fi</th>\n",
       "      <th>Fantasy</th>\n",
       "      <th>Crime</th>\n",
       "      <th>Adventure</th>\n",
       "      <th>Romance</th>\n",
       "      <th>Action</th>\n",
       "      <th>Thriller</th>\n",
       "      <th>Comedy</th>\n",
       "      <th>Drama</th>\n",
       "    </tr>\n",
       "    <tr>\n",
       "      <th>aspect_ratio_categorical</th>\n",
       "      <th></th>\n",
       "      <th></th>\n",
       "      <th></th>\n",
       "      <th></th>\n",
       "      <th></th>\n",
       "      <th></th>\n",
       "      <th></th>\n",
       "      <th></th>\n",
       "      <th></th>\n",
       "      <th></th>\n",
       "      <th></th>\n",
       "      <th></th>\n",
       "      <th></th>\n",
       "      <th></th>\n",
       "      <th></th>\n",
       "      <th></th>\n",
       "      <th></th>\n",
       "      <th></th>\n",
       "      <th></th>\n",
       "    </tr>\n",
       "  </thead>\n",
       "  <tbody>\n",
       "    <tr>\n",
       "      <th>1.85</th>\n",
       "      <td>34</td>\n",
       "      <td>59</td>\n",
       "      <td>40</td>\n",
       "      <td>80</td>\n",
       "      <td>44</td>\n",
       "      <td>107</td>\n",
       "      <td>95</td>\n",
       "      <td>110</td>\n",
       "      <td>157</td>\n",
       "      <td>238</td>\n",
       "      <td>159</td>\n",
       "      <td>218</td>\n",
       "      <td>264</td>\n",
       "      <td>239</td>\n",
       "      <td>418</td>\n",
       "      <td>215</td>\n",
       "      <td>306</td>\n",
       "      <td>842</td>\n",
       "      <td>793</td>\n",
       "    </tr>\n",
       "    <tr>\n",
       "      <th>2.35</th>\n",
       "      <td>40</td>\n",
       "      <td>75</td>\n",
       "      <td>98</td>\n",
       "      <td>59</td>\n",
       "      <td>104</td>\n",
       "      <td>65</td>\n",
       "      <td>136</td>\n",
       "      <td>248</td>\n",
       "      <td>205</td>\n",
       "      <td>162</td>\n",
       "      <td>303</td>\n",
       "      <td>245</td>\n",
       "      <td>412</td>\n",
       "      <td>480</td>\n",
       "      <td>386</td>\n",
       "      <td>688</td>\n",
       "      <td>743</td>\n",
       "      <td>539</td>\n",
       "      <td>1004</td>\n",
       "    </tr>\n",
       "    <tr>\n",
       "      <th>other</th>\n",
       "      <td>28</td>\n",
       "      <td>13</td>\n",
       "      <td>15</td>\n",
       "      <td>20</td>\n",
       "      <td>11</td>\n",
       "      <td>25</td>\n",
       "      <td>11</td>\n",
       "      <td>19</td>\n",
       "      <td>17</td>\n",
       "      <td>42</td>\n",
       "      <td>22</td>\n",
       "      <td>33</td>\n",
       "      <td>27</td>\n",
       "      <td>47</td>\n",
       "      <td>64</td>\n",
       "      <td>32</td>\n",
       "      <td>38</td>\n",
       "      <td>111</td>\n",
       "      <td>117</td>\n",
       "    </tr>\n",
       "  </tbody>\n",
       "</table>\n",
       "</div>"
      ],
      "text/plain": [
       "                          Musical  Sport  History  Music  War  Animation  \\\n",
       "aspect_ratio_categorical                                                   \n",
       "1.85                           34     59       40     80   44        107   \n",
       "2.35                           40     75       98     59  104         65   \n",
       "other                          28     13       15     20   11         25   \n",
       "\n",
       "                          Biography  Mystery  Horror  Family  Sci-Fi  Fantasy  \\\n",
       "aspect_ratio_categorical                                                        \n",
       "1.85                             95      110     157     238     159      218   \n",
       "2.35                            136      248     205     162     303      245   \n",
       "other                            11       19      17      42      22       33   \n",
       "\n",
       "                          Crime  Adventure  Romance  Action  Thriller  Comedy  \\\n",
       "aspect_ratio_categorical                                                        \n",
       "1.85                        264        239      418     215       306     842   \n",
       "2.35                        412        480      386     688       743     539   \n",
       "other                        27         47       64      32        38     111   \n",
       "\n",
       "                          Drama  \n",
       "aspect_ratio_categorical         \n",
       "1.85                        793  \n",
       "2.35                       1004  \n",
       "other                       117  "
      ]
     },
     "execution_count": 34,
     "metadata": {},
     "output_type": "execute_result"
    }
   ],
   "source": [
    "mod_df.groupby('aspect_ratio_categorical').sum()[unique_genres]"
   ]
  },
  {
   "cell_type": "code",
   "execution_count": 35,
   "metadata": {},
   "outputs": [],
   "source": [
    "# calculate the average gross, budget, and movie score for each of the aspect ratios\n",
    "aspect_gross_budget_movie = mod_df.groupby('aspect_ratio_categorical').mean()[['gross','budget','movie_score']]"
   ]
  },
  {
   "cell_type": "code",
   "execution_count": 36,
   "metadata": {},
   "outputs": [],
   "source": [
    "# calculate the count for each of the aspect ratios\n",
    "aspect_count = mod_df.groupby('aspect_ratio_categorical').count()['index']"
   ]
  },
  {
   "cell_type": "code",
   "execution_count": 37,
   "metadata": {},
   "outputs": [
    {
     "data": {
      "text/html": [
       "<div>\n",
       "<style scoped>\n",
       "    .dataframe tbody tr th:only-of-type {\n",
       "        vertical-align: middle;\n",
       "    }\n",
       "\n",
       "    .dataframe tbody tr th {\n",
       "        vertical-align: top;\n",
       "    }\n",
       "\n",
       "    .dataframe thead th {\n",
       "        text-align: right;\n",
       "    }\n",
       "</style>\n",
       "<table border=\"1\" class=\"dataframe\">\n",
       "  <thead>\n",
       "    <tr style=\"text-align: right;\">\n",
       "      <th></th>\n",
       "      <th>count</th>\n",
       "      <th>gross</th>\n",
       "      <th>budget</th>\n",
       "      <th>movie_score</th>\n",
       "    </tr>\n",
       "    <tr>\n",
       "      <th>aspect_ratio_categorical</th>\n",
       "      <th></th>\n",
       "      <th></th>\n",
       "      <th></th>\n",
       "      <th></th>\n",
       "    </tr>\n",
       "  </thead>\n",
       "  <tbody>\n",
       "    <tr>\n",
       "      <th>1.85</th>\n",
       "      <td>1582</td>\n",
       "      <td>4.357106e+07</td>\n",
       "      <td>3.892494e+07</td>\n",
       "      <td>6.369975</td>\n",
       "    </tr>\n",
       "    <tr>\n",
       "      <th>2.35</th>\n",
       "      <td>1946</td>\n",
       "      <td>5.747586e+07</td>\n",
       "      <td>5.225904e+07</td>\n",
       "      <td>6.507862</td>\n",
       "    </tr>\n",
       "    <tr>\n",
       "      <th>other</th>\n",
       "      <td>262</td>\n",
       "      <td>3.607303e+07</td>\n",
       "      <td>2.377085e+07</td>\n",
       "      <td>6.672519</td>\n",
       "    </tr>\n",
       "  </tbody>\n",
       "</table>\n",
       "</div>"
      ],
      "text/plain": [
       "                          count         gross        budget  movie_score\n",
       "aspect_ratio_categorical                                                \n",
       "1.85                       1582  4.357106e+07  3.892494e+07     6.369975\n",
       "2.35                       1946  5.747586e+07  5.225904e+07     6.507862\n",
       "other                       262  3.607303e+07  2.377085e+07     6.672519"
      ]
     },
     "execution_count": 37,
     "metadata": {},
     "output_type": "execute_result"
    }
   ],
   "source": [
    "# I could have used df.groupby.agg() instead of just concatenating two series, but that led to a few extra unnecessary columns. This way was cleaner\n",
    "pd.concat([aspect_count, aspect_gross_budget_movie],axis=1).rename(columns={'index':'count'})"
   ]
  },
  {
   "cell_type": "code",
   "execution_count": null,
   "metadata": {},
   "outputs": [],
   "source": []
  }
 ],
 "metadata": {
  "kernelspec": {
   "display_name": "Python 3",
   "language": "python",
   "name": "python3"
  },
  "language_info": {
   "codemirror_mode": {
    "name": "ipython",
    "version": 3
   },
   "file_extension": ".py",
   "mimetype": "text/x-python",
   "name": "python",
   "nbconvert_exporter": "python",
   "pygments_lexer": "ipython3",
   "version": "3.8.3"
  }
 },
 "nbformat": 4,
 "nbformat_minor": 4
}
